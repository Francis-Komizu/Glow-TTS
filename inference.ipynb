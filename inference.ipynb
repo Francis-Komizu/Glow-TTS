{
  "nbformat": 4,
  "nbformat_minor": 0,
  "metadata": {
    "colab": {
      "provenance": [],
      "toc_visible": true
    },
    "kernelspec": {
      "name": "python3",
      "display_name": "Python 3"
    },
    "language_info": {
      "name": "python"
    },
    "accelerator": "GPU",
    "gpuClass": "standard"
  },
  "cells": [
    {
      "cell_type": "markdown",
      "source": [
        "# Set up"
      ],
      "metadata": {
        "id": "AHbVDf6QdAkt"
      }
    },
    {
      "cell_type": "code",
      "source": [
        "!pip install cython==0.29.12\n",
        "!pip install pypinyin\n",
        "\n",
        "!git clone https://github.com/Francis-Komizu/Glow-TTS\n",
        "%cd Glow-TTS\n",
        "!git clone https://github.com/jik876/hifi-gan\n",
        "\n",
        "%cd monotonic_align\n",
        "!python setup.py build_ext --inplace\n",
        "%cd .."
      ],
      "metadata": {
        "id": "1M3trVRkc6Eu"
      },
      "execution_count": null,
      "outputs": []
    },
    {
      "cell_type": "code",
      "execution_count": 5,
      "metadata": {
        "id": "X-Y-vXNVcss5"
      },
      "outputs": [],
      "source": [
        "%matplotlib inline\n",
        "import matplotlib.pyplot as plt\n",
        "import IPython.display as ipd\n",
        "\n",
        "import librosa\n",
        "import numpy as np\n",
        "import os\n",
        "import glob\n",
        "import json\n",
        "\n",
        "import torch\n",
        "from text import text_to_sequence\n",
        "from text.symbols import symbols\n",
        "import commons\n",
        "import attentions\n",
        "import modules\n",
        "import models\n",
        "import utils"
      ]
    },
    {
      "cell_type": "markdown",
      "source": [
        "# Load models"
      ],
      "metadata": {
        "id": "nwatS-iRdn21"
      }
    },
    {
      "cell_type": "markdown",
      "source": [
        "## Flow generator"
      ],
      "metadata": {
        "id": "OI0lZOogoHCq"
      }
    },
    {
      "cell_type": "code",
      "source": [
        "hps = utils.get_hparams_from_file(\"/content/Glow-TTS/configs/base_blank.json\")\n",
        "checkpoint_path = \"/content/drive/MyDrive/Starglow/G_paimon.pth\"\n",
        "\n",
        "model = models.FlowGenerator(\n",
        "    len(symbols) + getattr(hps.data, \"add_blank\", False),\n",
        "    out_channels=hps.data.n_mel_channels,\n",
        "    **hps.model).to(\"cuda\")\n",
        "\n",
        "utils.load_checkpoint(checkpoint_path, model)\n",
        "model.decoder.store_inverse() # do not calcuate jacobians for fast decoding\n",
        "_ = model.eval()"
      ],
      "metadata": {
        "id": "OFSePvqUdpW1"
      },
      "execution_count": null,
      "outputs": []
    },
    {
      "cell_type": "markdown",
      "source": [
        "## HiFi-GAN"
      ],
      "metadata": {
        "id": "YE3QOQosoO4L"
      }
    },
    {
      "cell_type": "code",
      "source": [
        "!mkdir hifi-gan\n",
        "!gdown --id '14NENd4equCBLyyCSke114Mv6YR_j_uFs' --output hifi-gan/\n",
        "!gdown --id '1aDh576AEYA5eTjhx7sew1qcCM_Y526jc' --output hifi-gan/"
      ],
      "metadata": {
        "id": "n8pJvNJJoUaL"
      },
      "execution_count": null,
      "outputs": []
    },
    {
      "cell_type": "markdown",
      "source": [
        "# Text-to-speech"
      ],
      "metadata": {
        "id": "RQRUCsXeofBL"
      }
    },
    {
      "cell_type": "markdown",
      "source": [
        "## Text-to-mel"
      ],
      "metadata": {
        "id": "FqdL6VyEo4Ya"
      }
    },
    {
      "cell_type": "code",
      "source": [
        "tst_stn = \"你好，我是派蒙。\" \n",
        "\n",
        "if getattr(hps.data, \"add_blank\", False):\n",
        "    text_norm = text_to_sequence(tst_stn.strip(), ['chinese_cleaners'])\n",
        "    text_norm = commons.intersperse(text_norm, len(symbols))\n",
        "else: # If not using \"add_blank\" option during training, adding spaces at the beginning and the end of utterance improves quality\n",
        "    tst_stn = \" \" + tst_stn.strip() + \" \"\n",
        "    text_norm = text_to_sequence(tst_stn.strip(), ['chinese_cleaners'])\n",
        "sequence = np.array(text_norm)[None, :]\n",
        "print(\"\".join([symbols[c] if c < len(symbols) else \"<BNK>\" for c in sequence[0]]))\n",
        "x_tst = torch.autograd.Variable(torch.from_numpy(sequence)).cuda().long()\n",
        "x_tst_lengths = torch.tensor([x_tst.shape[1]]).cuda()\n",
        "\n",
        "with torch.no_grad():\n",
        "  noise_scale = .667\n",
        "  length_scale = 1.0\n",
        "  (y_gen_tst, *_), *_, (attn_gen, *_) = model(x_tst, x_tst_lengths, gen=True, noise_scale=noise_scale, length_scale=length_scale)\n",
        "\n",
        "# save mel-frames\n",
        "if not os.path.exists('./hifi-gan/test_mel_files'):\n",
        "    os.makedirs('./hifi-gan/test_mel_files')\n",
        "np.save(\"./hifi-gan/test_mel_files/sample.npy\", y_gen_tst.cpu().detach().numpy())"
      ],
      "metadata": {
        "id": "FU5fOJPmdruN"
      },
      "execution_count": null,
      "outputs": []
    },
    {
      "cell_type": "markdown",
      "source": [
        "## Mel-to-wav"
      ],
      "metadata": {
        "id": "B2n5f5u1o8Ny"
      }
    },
    {
      "cell_type": "code",
      "source": [
        "%cd hifi-gan\n",
        "!python inference_e2e.py --checkpoint_file /content/Glow-TTS/hifi-gan/generator_v1\n",
        "ipd.Audio(\"generated_files_from_mel/sample_generated_e2e.wav\", rate=22050)"
      ],
      "metadata": {
        "id": "1GGGW2FgduxN"
      },
      "execution_count": null,
      "outputs": []
    }
  ]
}